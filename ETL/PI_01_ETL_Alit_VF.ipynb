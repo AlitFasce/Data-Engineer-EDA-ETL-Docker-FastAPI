{
 "cells": [
  {
   "attachments": {},
   "cell_type": "markdown",
   "metadata": {},
   "source": [
    "**************** ETL *****************"
   ]
  },
  {
   "attachments": {},
   "cell_type": "markdown",
   "metadata": {},
   "source": [
    "El nomenclador utilizado en dataframes:\n",
    "- df_c dataframe\n",
    "- df_c dataframe copy\n",
    "- df_n dataframe nuevo, con columnas seleccionadas\n",
    "- s_ serie \n",
    "- s__ y__n serie nueva, limpia\n",
    "- _l limpio\n",
    "- _v partes que vienen de df_visual\n",
    "- _a partes que vienen de df_actores\n",
    "- _c partes que vienen de df_categorias"
   ]
  },
  {
   "attachments": {},
   "cell_type": "markdown",
   "metadata": {},
   "source": [
    "Se importan las librerias necesarias"
   ]
  },
  {
   "cell_type": "code",
   "execution_count": 14,
   "metadata": {},
   "outputs": [],
   "source": [
    "import pandas as pd\n"
   ]
  },
  {
   "attachments": {},
   "cell_type": "markdown",
   "metadata": {},
   "source": [
    "Se importan las funciones que se van creando en paralelo para el ETL en un archivo .py"
   ]
  },
  {
   "cell_type": "code",
   "execution_count": 15,
   "metadata": {},
   "outputs": [],
   "source": [
    "from funciones_etl import *"
   ]
  },
  {
   "attachments": {},
   "cell_type": "markdown",
   "metadata": {},
   "source": [
    "Se crea las variables con las paths_ vamos a respetar el orden alfabético de los archivos durante el EDA y ETL"
   ]
  },
  {
   "cell_type": "code",
   "execution_count": 16,
   "metadata": {},
   "outputs": [],
   "source": [
    "path_amazon=\"Datasets\\\\amazon_prime_titles.csv\"\n",
    "path_disney=\"Datasets\\\\disney_plus_titles.csv\"\n",
    "path_hulu=\"Datasets\\\\hulu_titles.csv\"\n",
    "path_netflix=\"Datasets\\\\netflix_titles.json\""
   ]
  },
  {
   "cell_type": "markdown",
   "metadata": {},
   "source": [
    "Se abren los archivos con la función de apertura creada (luego de realizar el EDA que está en un jupiter aparte) se comienza con el ETL- VER EN README - la estrategia utilizada, la cual esta COMPLETAMENTE adaptada al objetivo de las querys propuestas. "
   ]
  },
  {
   "attachments": {},
   "cell_type": "markdown",
   "metadata": {},
   "source": [
    "IMPORTANTE, se creo una función para abrir los archivos, sin embargo no pudo ser aplicada en el docker por problemas de instalacion de chardet"
   ]
  },
  {
   "cell_type": "code",
   "execution_count": 17,
   "metadata": {},
   "outputs": [],
   "source": [
    "df_amazon=pd.read_csv(path_amazon)\n",
    "df_disney=pd.read_csv(path_disney)\n",
    "df_hulu=pd.read_csv(path_hulu)\n",
    "df_netflix=pd.read_json(path_netflix)"
   ]
  },
  {
   "cell_type": "markdown",
   "metadata": {},
   "source": [
    "Como buena practica se realiza una copia de cada dataframe "
   ]
  },
  {
   "cell_type": "code",
   "execution_count": 18,
   "metadata": {},
   "outputs": [],
   "source": [
    "df_amazon_c=df_amazon.copy()\n",
    "df_disney_c=df_disney.copy()\n",
    "df_hulu_c=df_hulu.copy()\n",
    "df_netflix_c=df_netflix.copy()"
   ]
  },
  {
   "cell_type": "markdown",
   "metadata": {},
   "source": [
    "NO se eliminan duplicados, porque no tienen:\n",
    " \n",
    "#df_amazon_c.drop_duplicates(inplace=True) \n",
    "#df_disney_c.drop_duplicates(inplace=True)\n",
    "#df_hulu_c.drop_duplicates(inplace=True)\n",
    "#df_netflix_c.drop_duplicates(inplace=True)"
   ]
  },
  {
   "attachments": {},
   "cell_type": "markdown",
   "metadata": {},
   "source": [
    "CRITERIO DE LIMPIEZA:"
   ]
  },
  {
   "attachments": {},
   "cell_type": "markdown",
   "metadata": {},
   "source": [
    "Dado que las querys propuestas requieren, UNICAMENTE de las columnas: \n",
    "\n",
    "- title\n",
    "- type\n",
    "- cast\n",
    "- listed_in (categoria)\n",
    "- release year \n",
    "- platform\n",
    "- duration\n",
    "\n",
    "\n",
    "Se eliminaron todas las demás columnas: \n",
    "\n",
    "Justificacion, el objetivo de este proyecto es hacer la conxecion con la API, la consulta por la misma y levantarla en un docker. No es realizar un datawarehouse estructurado donde podamos realizar cualquier consulta, por lo que el ELT se realizó en base al objetivo planteado. \n",
    "\n",
    "Hubiera sido otro el criterio de haber pedido la información disponible para otros usos en un data warehouse. "
   ]
  },
  {
   "attachments": {},
   "cell_type": "markdown",
   "metadata": {},
   "source": [
    "Me quedo con las columnas que necesito"
   ]
  },
  {
   "cell_type": "code",
   "execution_count": 19,
   "metadata": {},
   "outputs": [],
   "source": [
    "df_amazon_new=eliminando_columnas(df_amazon_c)\n",
    "df_disney_new=eliminando_columnas(df_disney_c)\n",
    "df_hulu_new=eliminando_columnas(df_hulu_c)\n",
    "df_netflix_new=eliminando_columnas(df_netflix_c)"
   ]
  },
  {
   "cell_type": "markdown",
   "metadata": {},
   "source": [
    "A cada Dataframe se le agrega una columna con su fuente"
   ]
  },
  {
   "cell_type": "code",
   "execution_count": 20,
   "metadata": {},
   "outputs": [],
   "source": [
    "df_amazon_new['platform']='amazon'\n",
    "df_disney_new['platform']='disney'\n",
    "df_hulu_new['platform']='hulu'\n",
    "df_netflix_new['platform']='netflix'"
   ]
  },
  {
   "cell_type": "markdown",
   "metadata": {},
   "source": [
    "Separamos duration en dos nuevas columnas, una para seasons en las series y otra para tiempo de duracion de las peliculas"
   ]
  },
  {
   "cell_type": "code",
   "execution_count": 21,
   "metadata": {},
   "outputs": [],
   "source": [
    "df_hulu_new=separando_duration(df_hulu_new)\n",
    "df_hulu_new.drop(columns=['duration'], inplace = True)\n",
    "df_amazon_new=separando_duration(df_amazon_new)\n",
    "df_amazon_new.drop(columns=['duration'], inplace = True)\n",
    "\n",
    "df_disney_new=separando_duration(df_disney_new)\n",
    "df_disney_new.drop(columns=['duration'], inplace = True)\n",
    "\n",
    "df_netflix_new=separando_duration(df_netflix_new)\n",
    "df_netflix_new.drop(columns=['duration'], inplace = True)\n"
   ]
  },
  {
   "cell_type": "markdown",
   "metadata": {},
   "source": [
    "Concatenado de tablas"
   ]
  },
  {
   "cell_type": "code",
   "execution_count": 22,
   "metadata": {},
   "outputs": [],
   "source": [
    "df_visual=pd.concat([df_amazon_new, df_disney_new,df_hulu_new,df_netflix_new], axis=0)"
   ]
  },
  {
   "attachments": {},
   "cell_type": "markdown",
   "metadata": {},
   "source": [
    "Se elimina el viejo ID, se hace un eordenamiento de columnas y renombramiento de listed_in como categorías\n",
    "Se utiliza el mismo index del dataframe como ID global autoincremental."
   ]
  },
  {
   "cell_type": "code",
   "execution_count": 23,
   "metadata": {},
   "outputs": [],
   "source": [
    "df_visual.drop(columns=['show_id'], inplace = True)\n",
    "df_visual= df_visual.rename(columns={df_visual.columns[4]: 'category'})\n",
    "df_visual = df_visual.reindex(columns=[\"title\",\"type\",\"category\",\"release_year\",\"dur_time\",\"cast\",\"platform\"])"
   ]
  },
  {
   "cell_type": "code",
   "execution_count": 24,
   "metadata": {},
   "outputs": [
    {
     "data": {
      "text/plain": [
       "title               0\n",
       "type                0\n",
       "category            0\n",
       "release_year        0\n",
       "dur_time        22998\n",
       "cast             5321\n",
       "platform            0\n",
       "dtype: int64"
      ]
     },
     "execution_count": 24,
     "metadata": {},
     "output_type": "execute_result"
    }
   ],
   "source": [
    "df_visual.isnull().sum()\n"
   ]
  },
  {
   "cell_type": "code",
   "execution_count": 25,
   "metadata": {},
   "outputs": [],
   "source": [
    "df_visual['cast']=df_visual['cast'].fillna('null')"
   ]
  },
  {
   "attachments": {},
   "cell_type": "markdown",
   "metadata": {},
   "source": [
    "Checkpoint"
   ]
  },
  {
   "cell_type": "code",
   "execution_count": 26,
   "metadata": {},
   "outputs": [
    {
     "data": {
      "text/html": [
       "<div>\n",
       "<style scoped>\n",
       "    .dataframe tbody tr th:only-of-type {\n",
       "        vertical-align: middle;\n",
       "    }\n",
       "\n",
       "    .dataframe tbody tr th {\n",
       "        vertical-align: top;\n",
       "    }\n",
       "\n",
       "    .dataframe thead th {\n",
       "        text-align: right;\n",
       "    }\n",
       "</style>\n",
       "<table border=\"1\" class=\"dataframe\">\n",
       "  <thead>\n",
       "    <tr style=\"text-align: right;\">\n",
       "      <th></th>\n",
       "      <th>title</th>\n",
       "      <th>type</th>\n",
       "      <th>category</th>\n",
       "      <th>release_year</th>\n",
       "      <th>dur_time</th>\n",
       "      <th>cast</th>\n",
       "      <th>platform</th>\n",
       "    </tr>\n",
       "  </thead>\n",
       "  <tbody>\n",
       "    <tr>\n",
       "      <th>7093</th>\n",
       "      <td>Inxeba</td>\n",
       "      <td>Movie</td>\n",
       "      <td>Dramas, Independent Movies, International Movies</td>\n",
       "      <td>2017</td>\n",
       "      <td>NaN</td>\n",
       "      <td>Nakhane Touré, Bongile Mantsai, Niza Jay, Thob...</td>\n",
       "      <td>netflix</td>\n",
       "    </tr>\n",
       "    <tr>\n",
       "      <th>8725</th>\n",
       "      <td>Act 6 - Series 1</td>\n",
       "      <td>TV Show</td>\n",
       "      <td>Action</td>\n",
       "      <td>2021</td>\n",
       "      <td>NaN</td>\n",
       "      <td>1</td>\n",
       "      <td>amazon</td>\n",
       "    </tr>\n",
       "    <tr>\n",
       "      <th>39</th>\n",
       "      <td>Yoga to Harness Your Chakra Energy</td>\n",
       "      <td>Movie</td>\n",
       "      <td>Faith and Spirituality, Special Interest</td>\n",
       "      <td>2014</td>\n",
       "      <td>NaN</td>\n",
       "      <td>Caroline Shola Arewa</td>\n",
       "      <td>amazon</td>\n",
       "    </tr>\n",
       "    <tr>\n",
       "      <th>6093</th>\n",
       "      <td>Dark</td>\n",
       "      <td>Movie</td>\n",
       "      <td>Action, Suspense</td>\n",
       "      <td>2018</td>\n",
       "      <td>NaN</td>\n",
       "      <td>Mohanlal, Nadhiya, Parvatii Nair, Nassar</td>\n",
       "      <td>amazon</td>\n",
       "    </tr>\n",
       "    <tr>\n",
       "      <th>2479</th>\n",
       "      <td>The Lovebirds</td>\n",
       "      <td>Movie</td>\n",
       "      <td>Action &amp; Adventure, Comedies, Romantic Movies</td>\n",
       "      <td>2020</td>\n",
       "      <td>NaN</td>\n",
       "      <td>Issa Rae, Kumail Nanjiani, Paul Sparks, Anna C...</td>\n",
       "      <td>netflix</td>\n",
       "    </tr>\n",
       "    <tr>\n",
       "      <th>2775</th>\n",
       "      <td>Hunt for the Wilderpeople</td>\n",
       "      <td>Movie</td>\n",
       "      <td>Adventure, Comedy, Drama</td>\n",
       "      <td>2016</td>\n",
       "      <td>NaN</td>\n",
       "      <td>null</td>\n",
       "      <td>hulu</td>\n",
       "    </tr>\n",
       "    <tr>\n",
       "      <th>618</th>\n",
       "      <td>Rūrangi</td>\n",
       "      <td>TV Show</td>\n",
       "      <td>Documentaries, International, LGBTQ+</td>\n",
       "      <td>2021</td>\n",
       "      <td>NaN</td>\n",
       "      <td>null</td>\n",
       "      <td>hulu</td>\n",
       "    </tr>\n",
       "    <tr>\n",
       "      <th>2590</th>\n",
       "      <td>Early Day Miners</td>\n",
       "      <td>Movie</td>\n",
       "      <td>Music Videos and Concerts</td>\n",
       "      <td>2011</td>\n",
       "      <td>NaN</td>\n",
       "      <td>null</td>\n",
       "      <td>amazon</td>\n",
       "    </tr>\n",
       "    <tr>\n",
       "      <th>6412</th>\n",
       "      <td>Halloween Kids Songs by Little Baby Bum</td>\n",
       "      <td>Movie</td>\n",
       "      <td>Kids</td>\n",
       "      <td>2019</td>\n",
       "      <td>NaN</td>\n",
       "      <td>null</td>\n",
       "      <td>amazon</td>\n",
       "    </tr>\n",
       "    <tr>\n",
       "      <th>6609</th>\n",
       "      <td>Die Another Day</td>\n",
       "      <td>Movie</td>\n",
       "      <td>Action &amp; Adventure</td>\n",
       "      <td>2002</td>\n",
       "      <td>NaN</td>\n",
       "      <td>Pierce Brosnan, Halle Berry, Toby Stephens, Ri...</td>\n",
       "      <td>netflix</td>\n",
       "    </tr>\n",
       "  </tbody>\n",
       "</table>\n",
       "</div>"
      ],
      "text/plain": [
       "                                        title     type  \\\n",
       "7093                                   Inxeba    Movie   \n",
       "8725                         Act 6 - Series 1  TV Show   \n",
       "39         Yoga to Harness Your Chakra Energy    Movie   \n",
       "6093                                     Dark    Movie   \n",
       "2479                            The Lovebirds    Movie   \n",
       "2775                Hunt for the Wilderpeople    Movie   \n",
       "618                                   Rūrangi  TV Show   \n",
       "2590                         Early Day Miners    Movie   \n",
       "6412  Halloween Kids Songs by Little Baby Bum    Movie   \n",
       "6609                          Die Another Day    Movie   \n",
       "\n",
       "                                              category  release_year  \\\n",
       "7093  Dramas, Independent Movies, International Movies          2017   \n",
       "8725                                            Action          2021   \n",
       "39            Faith and Spirituality, Special Interest          2014   \n",
       "6093                                  Action, Suspense          2018   \n",
       "2479     Action & Adventure, Comedies, Romantic Movies          2020   \n",
       "2775                          Adventure, Comedy, Drama          2016   \n",
       "618               Documentaries, International, LGBTQ+          2021   \n",
       "2590                         Music Videos and Concerts          2011   \n",
       "6412                                              Kids          2019   \n",
       "6609                                Action & Adventure          2002   \n",
       "\n",
       "      dur_time                                               cast platform  \n",
       "7093       NaN  Nakhane Touré, Bongile Mantsai, Niza Jay, Thob...  netflix  \n",
       "8725       NaN                                                  1   amazon  \n",
       "39         NaN                               Caroline Shola Arewa   amazon  \n",
       "6093       NaN           Mohanlal, Nadhiya, Parvatii Nair, Nassar   amazon  \n",
       "2479       NaN  Issa Rae, Kumail Nanjiani, Paul Sparks, Anna C...  netflix  \n",
       "2775       NaN                                               null     hulu  \n",
       "618        NaN                                               null     hulu  \n",
       "2590       NaN                                               null   amazon  \n",
       "6412       NaN                                               null   amazon  \n",
       "6609       NaN  Pierce Brosnan, Halle Berry, Toby Stephens, Ri...  netflix  "
      ]
     },
     "execution_count": 26,
     "metadata": {},
     "output_type": "execute_result"
    }
   ],
   "source": [
    "df_visual.sample(10)"
   ]
  },
  {
   "cell_type": "markdown",
   "metadata": {},
   "source": [
    "Se pasa a un csv limpio"
   ]
  },
  {
   "cell_type": "code",
   "execution_count": 27,
   "metadata": {},
   "outputs": [],
   "source": [
    "filepath = pl('csv_limpios/visualgeneral.csv')  \n",
    "filepath.parent.mkdir(parents=True, exist_ok=True)  \n",
    "df_visual.to_csv(filepath,\n",
    "                 sep= \",\",\n",
    "                 na_rep= \"null\",\n",
    "                 columns= (\"title\",\"type\",\"category\",\"release_year\",\"dur_time\",\"cast\",\"platform\"),\n",
    "                 header= True,\n",
    "                 index= False,\n",
    "                 index_label= None,\n",
    "                 mode= \"w\",\n",
    "                 encoding= \"utf-8\",\n",
    "                 compression= \"infer\",            \n",
    "                 #chunksize= None, - es el número de row - puedo limitarlo aca\n",
    "                 decimal= \".\"\n",
    "                 ) \n",
    "#df_visual.to_csv(filepath, sep=';', na_rep='sin_dato', columns=None, header=True, index=False)\n",
    "os.makedirs('csv_limpios', exist_ok=True)  \n",
    "df_visual.to_csv('csv_limpios/visualgeneral.csv')  "
   ]
  }
 ],
 "metadata": {
  "kernelspec": {
   "display_name": "Python 3.10.6 64-bit",
   "language": "python",
   "name": "python3"
  },
  "language_info": {
   "codemirror_mode": {
    "name": "ipython",
    "version": 3
   },
   "file_extension": ".py",
   "mimetype": "text/x-python",
   "name": "python",
   "nbconvert_exporter": "python",
   "pygments_lexer": "ipython3",
   "version": "3.10.6 (tags/v3.10.6:9c7b4bd, Aug  1 2022, 21:53:49) [MSC v.1932 64 bit (AMD64)]"
  },
  "orig_nbformat": 4,
  "vscode": {
   "interpreter": {
    "hash": "26de051ba29f2982a8de78e945f0abaf191376122a1563185a90213a26c5da77"
   }
  }
 },
 "nbformat": 4,
 "nbformat_minor": 2
}

{
 "cells": [
  {
   "cell_type": "markdown",
   "metadata": {},
   "source": [
    "ESTE ARCHIVO ES PARA GESTIONAR LAS QUERYS"
   ]
  },
  {
   "cell_type": "markdown",
   "metadata": {},
   "source": [
    "El nomenclador de archivos utilizado es:\n",
    "- df_c dataframe\n",
    "- df_c dataframe copy\n",
    "- df_n dataframe nuevo, con columnas seleccionadas\n",
    "- s_ serie \n",
    "- s__ y__n serie nueva, limpia\n",
    "- _l limpio"
   ]
  },
  {
   "cell_type": "markdown",
   "metadata": {},
   "source": [
    "importo las librerias, puede que haya de más pero luego ya las iremos depurando"
   ]
  },
  {
   "cell_type": "code",
   "execution_count": 1,
   "metadata": {},
   "outputs": [],
   "source": [
    "import pandas as pd\n"
   ]
  },
  {
   "cell_type": "markdown",
   "metadata": {},
   "source": [
    "importo las funciones que vamos creando en paralelo para el suporte a las query"
   ]
  },
  {
   "cell_type": "code",
   "execution_count": 2,
   "metadata": {},
   "outputs": [],
   "source": [
    "#from funciones_etl import *"
   ]
  },
  {
   "cell_type": "markdown",
   "metadata": {},
   "source": [
    "se crea la variable con el path y se abre el achivo con la función"
   ]
  },
  {
   "cell_type": "code",
   "execution_count": 3,
   "metadata": {},
   "outputs": [],
   "source": [
    "df_visual_l=pd.read_csv(\"visualgeneral.csv\")"
   ]
  },
  {
   "cell_type": "markdown",
   "metadata": {},
   "source": [
    "CONSULTAS:"
   ]
  },
  {
   "cell_type": "markdown",
   "metadata": {},
   "source": [
    "- 1- Máxima duración según tipo de film (película/serie), por plataforma y por año: El request debe ser: get_max_duration(año, plataforma, [min o season])"
   ]
  },
  {
   "cell_type": "code",
   "execution_count": 4,
   "metadata": {},
   "outputs": [],
   "source": [
    "def query1(año,plataforma,min_o_seasson):\n",
    "\n",
    "\n",
    "    plataforma=plataforma.lower()\n",
    "\n",
    "    maximo=0\n",
    "    \n",
    "    df_tvshow=(df_visual_l[(df_visual_l.platform==plataforma)&(df_visual_l.release_year==año)&(df_visual_l.type=='TV Show')]).drop_duplicates(subset='title')\n",
    "    \n",
    "    df_movie=(df_visual_l[(df_visual_l.platform==plataforma)&(df_visual_l.release_year==año)&(df_visual_l.type=='Movie')]).drop_duplicates(subset='title')\n",
    "        \n",
    "    if min_o_seasson=='seasson':\n",
    "        maximo=df_tvshow.dur_time.max()\n",
    "    elif min_o_seasson=='min':\n",
    "        maximo=df_movie.dur_time.max()\n",
    "        \n",
    "    df_rta=(df_movie[(df_movie.dur_time==maximo)]) \n",
    "    #df_rta.columns.get_loc('title')\n",
    "    np_rta=df_rta[['title']].to_numpy()\n",
    "    l_rta=list(np_rta)\n",
    "    for i in (np_rta):\n",
    "        m=str(i)\n",
    "    print(m)\n",
    " \n",
    "    return str(m)\n"
   ]
  },
  {
   "cell_type": "code",
   "execution_count": 5,
   "metadata": {},
   "outputs": [
    {
     "name": "stdout",
     "output_type": "stream",
     "text": [
      "['The House That Jack Built']\n"
     ]
    },
    {
     "data": {
      "text/plain": [
       "\"['The House That Jack Built']\""
      ]
     },
     "execution_count": 5,
     "metadata": {},
     "output_type": "execute_result"
    }
   ],
   "source": [
    "query1(2018,'hulu','min')"
   ]
  },
  {
   "attachments": {},
   "cell_type": "markdown",
   "metadata": {},
   "source": [
    "- 2- Cantidad de películas y series (separado) por plataforma El request debe ser: get_count_plataform(plataforma)\n"
   ]
  },
  {
   "cell_type": "code",
   "execution_count": 6,
   "metadata": {},
   "outputs": [
    {
     "ename": "NameError",
     "evalue": "name 'query2' is not defined",
     "output_type": "error",
     "traceback": [
      "\u001b[1;31m---------------------------------------------------------------------------\u001b[0m",
      "\u001b[1;31mNameError\u001b[0m                                 Traceback (most recent call last)",
      "Cell \u001b[1;32mIn [6], line 1\u001b[0m\n\u001b[1;32m----> 1\u001b[0m query2(\u001b[39m'\u001b[39m\u001b[39mNetflix\u001b[39m\u001b[39m'\u001b[39m)\n",
      "\u001b[1;31mNameError\u001b[0m: name 'query2' is not defined"
     ]
    }
   ],
   "source": [
    "query2('Netflix')"
   ]
  },
  {
   "attachments": {},
   "cell_type": "markdown",
   "metadata": {},
   "source": [
    "- 3- Cantidad de veces que se repite un género y plataforma con mayor frecuencia del mismo. El request debe ser: get_listedin('genero') - Como ejemplo de género pueden usar 'comedy', el cuál deberia devolverles un cunt de 2099 para la plataforma de amazon."
   ]
  },
  {
   "cell_type": "code",
   "execution_count": null,
   "metadata": {},
   "outputs": [],
   "source": [
    "def query3(genero):\n",
    "    \n",
    "    genero=str(genero.capitalize())\n",
    "\n",
    "    df_amazon=(df_visual_l[(df_visual_l.platform=='amazon')]) \n",
    "    df_disney=(df_visual_l[(df_visual_l.platform=='disney')]) \n",
    "    df_hulu=(df_visual_l[(df_visual_l.platform=='hulu')]) \n",
    "    df_netflix=(df_visual_l[(df_visual_l.platform=='netflix')]) \n",
    "\n",
    "    df_amazon_categ=(df_amazon[df_amazon['category'].str.contains(genero,na=False)])\n",
    "    df_disney_categ=(df_disney[df_disney['category'].str.contains(genero,na=False)])\n",
    "    df_hulu_categ=(df_hulu[df_hulu['category'].str.contains(genero,na=False)])\n",
    "    df_netflix_categ=(df_netflix[df_netflix['category'].str.contains(genero,na=False)])\n",
    "\n",
    "    shape_a=df_amazon_categ.shape\n",
    "    shape_a=shape_a[0]\n",
    "    shape_d=df_disney_categ.shape\n",
    "    shape_d=shape_d[0]\n",
    "    shape_h=df_hulu_categ.shape\n",
    "    shape_h=shape_h[0]\n",
    "    shape_n=df_netflix_categ.shape\n",
    "    shape_n=shape_n[0]\n",
    "\n",
    "    lista=[shape_a,shape_d,shape_h,shape_n]\n",
    "    mayor=(lista[0],0)\n",
    "            \n",
    "    for i,e in enumerate(lista):\n",
    "        if e > mayor[0]:\n",
    "            mayor=e,i\n",
    "\n",
    "        else:\n",
    "            mayor=mayor\n",
    "\n",
    "        c=mayor[0]\n",
    "        m=mayor[1]\n",
    "\n",
    "        if m==0:\n",
    "            p='Amazon'\n",
    "        elif m==1:\n",
    "            p='Disney'\n",
    "        elif m==2:\n",
    "            p='Hulu'\n",
    "        elif m==3:\n",
    "            p='Netflix'\n",
    "    \n",
    "    return p,c"
   ]
  },
  {
   "cell_type": "code",
   "execution_count": null,
   "metadata": {},
   "outputs": [
    {
     "data": {
      "text/plain": [
       "('Amazon', 2099)"
      ]
     },
     "execution_count": 16,
     "metadata": {},
     "output_type": "execute_result"
    }
   ],
   "source": [
    "query3('comedy')"
   ]
  },
  {
   "attachments": {},
   "cell_type": "markdown",
   "metadata": {},
   "source": [
    "- 4-Actor que más se repite según plataforma y año. El request debe ser: get_actor(plataforma, año)"
   ]
  },
  {
   "cell_type": "code",
   "execution_count": null,
   "metadata": {},
   "outputs": [],
   "source": [
    "df_visual_l['cast']=df_visual_l['cast'].fillna('null')"
   ]
  },
  {
   "cell_type": "code",
   "execution_count": null,
   "metadata": {},
   "outputs": [],
   "source": [
    "def get_actor(plataforma,año):\n",
    "    \n",
    "    plataforma=str(plataforma.lower())\n",
    "    año=int(año)\n",
    "    df_visual_l['cast']=df_visual_l['cast'].fillna('null')\n",
    "\n",
    "    df_plataforma=(df_visual_l[(df_visual_l.platform==plataforma)&(df_visual_l.release_year==año)&(df_visual_l.cast!='null')])\n",
    "    df_plataforma['cast']=df_plataforma['cast'].replace(' ,',',') \n",
    "    df_plataforma['cast']=df_plataforma['cast'].replace(', ',',') \n",
    "\n",
    "    lista_actores_unicos=[]\n",
    "\n",
    "    for lista in df_plataforma['cast']:\n",
    "        lista=str(lista).split(',')\n",
    "        for actor in lista:\n",
    "            actor=actor.strip()\n",
    "            lista_actores_unicos.append(actor)\n",
    "    lista_actores_unicos=list(set(lista_actores_unicos))\n",
    "\n",
    "    lista_actores=[]\n",
    "    lista_repetidos=[]\n",
    "    dicc=dict()\n",
    "\n",
    "    for lista in df_plataforma['cast']:\n",
    "        lista=str(lista).split(',')\n",
    "        for actor in lista:\n",
    "            actor=actor.strip()\n",
    "            lista_actores.append(actor)\n",
    "    lista_actores_unicos=list(set(lista_actores))\n",
    "\n",
    "    for i,e in enumerate(lista_actores):\n",
    "        contador=lista_actores.count(e)\n",
    "        dicc[e]=contador\n",
    "    \n",
    "    a=max(dicc, key=dicc.get)\n",
    "\n",
    "    m=dicc.get(a)\n",
    "    rta=f'el actor que más se repite es {a} en el año {año} y la plataforma {plataforma}, y se repite {m}'\n",
    "    return rta"
   ]
  },
  {
   "cell_type": "code",
   "execution_count": null,
   "metadata": {},
   "outputs": [
    {
     "name": "stderr",
     "output_type": "stream",
     "text": [
      "C:\\Users\\dell7\\AppData\\Local\\Temp\\ipykernel_11720\\1656699844.py:8: SettingWithCopyWarning: \n",
      "A value is trying to be set on a copy of a slice from a DataFrame.\n",
      "Try using .loc[row_indexer,col_indexer] = value instead\n",
      "\n",
      "See the caveats in the documentation: https://pandas.pydata.org/pandas-docs/stable/user_guide/indexing.html#returning-a-view-versus-a-copy\n",
      "  df_plataforma['cast']=df_plataforma['cast'].replace(' ,',',')\n",
      "C:\\Users\\dell7\\AppData\\Local\\Temp\\ipykernel_11720\\1656699844.py:9: SettingWithCopyWarning: \n",
      "A value is trying to be set on a copy of a slice from a DataFrame.\n",
      "Try using .loc[row_indexer,col_indexer] = value instead\n",
      "\n",
      "See the caveats in the documentation: https://pandas.pydata.org/pandas-docs/stable/user_guide/indexing.html#returning-a-view-versus-a-copy\n",
      "  df_plataforma['cast']=df_plataforma['cast'].replace(', ',',')\n"
     ]
    },
    {
     "data": {
      "text/plain": [
       "'el actor que más se repite es Andrea Libman en el año 2018 y la plataforma netflix, y se repite 8'"
      ]
     },
     "execution_count": 19,
     "metadata": {},
     "output_type": "execute_result"
    }
   ],
   "source": [
    "get_actor('netflix',2018)"
   ]
  }
 ],
 "metadata": {
  "kernelspec": {
   "display_name": "Python 3.10.6 64-bit",
   "language": "python",
   "name": "python3"
  },
  "language_info": {
   "codemirror_mode": {
    "name": "ipython",
    "version": 3
   },
   "file_extension": ".py",
   "mimetype": "text/x-python",
   "name": "python",
   "nbconvert_exporter": "python",
   "pygments_lexer": "ipython3",
   "version": "3.10.6"
  },
  "orig_nbformat": 4,
  "vscode": {
   "interpreter": {
    "hash": "26de051ba29f2982a8de78e945f0abaf191376122a1563185a90213a26c5da77"
   }
  }
 },
 "nbformat": 4,
 "nbformat_minor": 2
}
